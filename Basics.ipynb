{
 "cells": [
  {
   "cell_type": "markdown",
   "metadata": {},
   "source": [
    "**Задание 1**. Даны 2 строки: *long_phrase* и *short_phrase*. \n",
    "Напишите код, который проверяет действительно ли длинная фраза *long_phrase* длиннее короткой *short_phrase*. И выводит *True* или *False* в зависимости от результата сравнения."
   ]
  },
  {
   "cell_type": "code",
   "execution_count": 6,
   "metadata": {
    "scrolled": false
   },
   "outputs": [],
   "source": [
    "long_phrase = 'Насколько проще было бы писать программы, если бы не заказчики'\n",
    "short_phrase = '640Кб должно хватить для любых задач. Билл Гейтс (по легенде)'"
   ]
  },
  {
   "cell_type": "code",
   "execution_count": 5,
   "metadata": {},
   "outputs": [
    {
     "data": {
      "text/plain": [
       "True"
      ]
     },
     "execution_count": 5,
     "metadata": {},
     "output_type": "execute_result"
    }
   ],
   "source": [
    "long_phrase>short_phrase"
   ]
  },
  {
   "cell_type": "markdown",
   "metadata": {},
   "source": [
    "**Задание 2**. Дано значение объема файла в байтах (*в мегабайте 2^20 байт*). Напишите перевод этого значения в мегабайты в формате: \"*Объем файла равен 213.68Mb*\"."
   ]
  },
  {
   "cell_type": "markdown",
   "metadata": {},
   "source": [
    "**Вопрос к заданию 2. Мы всегда будем использовать приставки мега и кило со значениями эквивалентными меби, киби?** "
   ]
  },
  {
   "cell_type": "code",
   "execution_count": 41,
   "metadata": {},
   "outputs": [
    {
     "name": "stdout",
     "output_type": "stream",
     "text": [
      "1048576\n",
      "Объем файла равен 1.00Mb\n"
     ]
    }
   ],
   "source": [
    "value_bite = int(input())\n",
    "value_Mb = value_bite / (2**20)\n",
    "print ('Объем файла равен ' + str('%4.2f'%value_Mb) + 'Mb')"
   ]
  },
  {
   "cell_type": "markdown",
   "metadata": {},
   "source": [
    "**Задание 3**. Разработать приложение для определения знака зодиака по дате рождения. Пример:\n",
    "\n",
    "Введите месяц: март\n",
    "\n",
    "Введите число: 6\n",
    "\n",
    "Вывод:\n",
    "Рыбы"
   ]
  },
  {
   "cell_type": "code",
   "execution_count": 50,
   "metadata": {},
   "outputs": [
    {
     "name": "stdout",
     "output_type": "stream",
     "text": [
      "Февраль\n",
      "23\n",
      "убедись, что месяц записан кириллицей и без заглавных символов, и нигде не поставлены пробелы\n"
     ]
    }
   ],
   "source": [
    "month = input()\n",
    "day = int(input())\n",
    "if (month == 'март' and day > 20) or (month == 'april' and day < 21):\n",
    "    print('Овен')\n",
    "elif (month == 'апрель' and day > 20) or (month == 'май' and day < 22):\n",
    "    print('Телец')\n",
    "elif (month == 'май' and day > 21) or (month == 'июнь' and day < 22):\n",
    "    print('Близнецы')\n",
    "elif (month == 'июнь' and day > 21) or (month == 'июль' and day < 23):\n",
    "    print('Рак')\n",
    "elif (month == 'июль' and day > 22) or (month == 'август' and day < 24):\n",
    "    print('Лев')\n",
    "elif (month == 'август' and day > 23) or (month == 'сентябрь' and day < 24):\n",
    "    print('Дева')\n",
    "elif (month == 'сентябрь' and day > 23) or (month == 'октябрь' and day < 24):\n",
    "    print('Весы')\n",
    "elif (month == 'октябрь' and day > 23) or (month == 'ноябрь' and day < 23):\n",
    "    print('Скорпион')\n",
    "elif (month == 'ноябрь' and day > 22) or (month == 'декабрь' and day < 22):\n",
    "    print('Стрелец')\n",
    "elif (month == 'декабрь' and day > 21) or (month == 'январь' and day < 21):\n",
    "    print('Козерог')\n",
    "elif (month == 'январь' and day > 20) or (month == 'февраль' and day < 19):\n",
    "    print('Водолей')\n",
    "elif (month == 'февраль' and day > 18) or (month == 'март' and day < 21):\n",
    "    print('Рыбы')\n",
    "else:\n",
    "    print('убедись, что месяц записан кириллицей и без заглавных символов, и нигде не поставлены пробелы')"
   ]
  },
  {
   "cell_type": "markdown",
   "metadata": {},
   "source": [
    "**Задание 4**. Нужно разработать приложение для финансового планирования.\n",
    "Приложение учитывает сколько уходит на ипотеку, \"на жизнь\" и сколько нужно отложить на пенсию.\n",
    "Пользователь вводит:\n",
    "- заработанную плату в месяц.\n",
    "- сколько процентов от ЗП уходит на ипотеку.\n",
    "- сколько процентов от ЗП уходит \"на жизнь\".\n",
    "- сколько раз приходит премия в год.\n",
    "\n",
    "Остальная часть заработанной платы откладывается на пенсию.\n",
    "\n",
    "Также пользователю приходит премия в размере зарплаты, от которой половина уходит на отпуск, а вторая половина откладывается.\n",
    "\n",
    "Программа должна учитывать сколько премий было в год.\n",
    "\n",
    "Нужно вывести сколько денег тратит пользователь на ипотеку и сколько он накопит за год.\n",
    "\n",
    "Пример:\n",
    "\n",
    "Введите заработанную плату в месяц: 100000\n",
    "\n",
    "Введите сколько процентов уходит на ипотеку: 30\n",
    "\n",
    "Введите сколько процентов уходит на жизнь: 50\n",
    "\n",
    "Введите количество премий за год: 2\n",
    "\n",
    "Вывод:\n",
    "На ипотеку было потрачено: 360000 рублей\n",
    "Было накоплено: 340000 рублей"
   ]
  },
  {
   "cell_type": "code",
   "execution_count": 73,
   "metadata": {
    "scrolled": false
   },
   "outputs": [
    {
     "name": "stdout",
     "output_type": "stream",
     "text": [
      "Введите заработанную плату в месяц: 35000\n",
      "Введите сколько процентов уходит на ипотеку: 75\n",
      "Введите сколько процентов уходит на жизнь: 40\n",
      "Введите количество премий за год: 1\n",
      "На ипотеку было потрачено 315000 рублей. Было накоплено: -129500 рублей.\n"
     ]
    }
   ],
   "source": [
    "salary = int(input('Введите заработанную плату в месяц: '))\n",
    "mortgage_interest = int(input('Введите сколько процентов уходит на ипотеку: '))\n",
    "life_percent = int(input('Введите сколько процентов уходит на жизнь: '))\n",
    "bonus_num = int(input('Введите количество премий за год: '))\n",
    "mortgage_rub_year = int(salary * mortgage_interest * 0.01 * 12)\n",
    "saved_year = int(salary * 12 * life_percent * 0.01 + bonus_num * salary * 0.5 - mortgage_rub_year)\n",
    "print('На ипотеку было потрачено ' + str(mortgage_rub_year) + ' рублей. Было накоплено: ' + str(saved_year) +' рублей.')"
   ]
  },
  {
   "cell_type": "code",
   "execution_count": null,
   "metadata": {},
   "outputs": [],
   "source": []
  }
 ],
 "metadata": {
  "kernelspec": {
   "display_name": "Python 3",
   "language": "python",
   "name": "python3"
  },
  "language_info": {
   "codemirror_mode": {
    "name": "ipython",
    "version": 3
   },
   "file_extension": ".py",
   "mimetype": "text/x-python",
   "name": "python",
   "nbconvert_exporter": "python",
   "pygments_lexer": "ipython3",
   "version": "3.7.6"
  }
 },
 "nbformat": 4,
 "nbformat_minor": 2
}
